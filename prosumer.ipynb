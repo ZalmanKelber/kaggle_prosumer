{
 "cells": [
  {
   "cell_type": "code",
   "execution_count": 26,
   "metadata": {},
   "outputs": [],
   "source": [
    "import pandas as pd\n",
    "import numpy as np\n",
    "import matplotlib.pyplot as plt"
   ]
  },
  {
   "cell_type": "code",
   "execution_count": 27,
   "metadata": {},
   "outputs": [],
   "source": [
    "train = pd.read_csv('input/train.csv')\n",
    "client = pd.read_csv('input/client.csv')\n",
    "electricity_prices = pd.read_csv('input/electricity_prices.csv')\n",
    "forecast_weather = pd.read_csv('input/forecast_weather.csv')\n",
    "gas_prices = pd.read_csv('input/gas_prices.csv')\n",
    "historical_weather = pd.read_csv('input/historical_weather.csv')\n",
    "train = train.dropna()"
   ]
  },
  {
   "cell_type": "code",
   "execution_count": 28,
   "metadata": {},
   "outputs": [
    {
     "data": {
      "text/html": [
       "<div>\n",
       "<style scoped>\n",
       "    .dataframe tbody tr th:only-of-type {\n",
       "        vertical-align: middle;\n",
       "    }\n",
       "\n",
       "    .dataframe tbody tr th {\n",
       "        vertical-align: top;\n",
       "    }\n",
       "\n",
       "    .dataframe thead th {\n",
       "        text-align: right;\n",
       "    }\n",
       "</style>\n",
       "<table border=\"1\" class=\"dataframe\">\n",
       "  <thead>\n",
       "    <tr style=\"text-align: right;\">\n",
       "      <th></th>\n",
       "      <th>county</th>\n",
       "      <th>is_business</th>\n",
       "      <th>product_type</th>\n",
       "      <th>target</th>\n",
       "      <th>is_consumption</th>\n",
       "      <th>datetime</th>\n",
       "      <th>data_block_id</th>\n",
       "      <th>row_id</th>\n",
       "      <th>prediction_unit_id</th>\n",
       "      <th>day_no</th>\n",
       "      <th>hour</th>\n",
       "      <th>month</th>\n",
       "      <th>weekday</th>\n",
       "    </tr>\n",
       "  </thead>\n",
       "  <tbody>\n",
       "    <tr>\n",
       "      <th>0</th>\n",
       "      <td>0</td>\n",
       "      <td>0</td>\n",
       "      <td>1</td>\n",
       "      <td>0.713</td>\n",
       "      <td>0</td>\n",
       "      <td>2021-09-01</td>\n",
       "      <td>0</td>\n",
       "      <td>0</td>\n",
       "      <td>0</td>\n",
       "      <td>0</td>\n",
       "      <td>0</td>\n",
       "      <td>9</td>\n",
       "      <td>2</td>\n",
       "    </tr>\n",
       "    <tr>\n",
       "      <th>1</th>\n",
       "      <td>0</td>\n",
       "      <td>0</td>\n",
       "      <td>1</td>\n",
       "      <td>96.590</td>\n",
       "      <td>1</td>\n",
       "      <td>2021-09-01</td>\n",
       "      <td>0</td>\n",
       "      <td>1</td>\n",
       "      <td>0</td>\n",
       "      <td>0</td>\n",
       "      <td>0</td>\n",
       "      <td>9</td>\n",
       "      <td>2</td>\n",
       "    </tr>\n",
       "    <tr>\n",
       "      <th>2</th>\n",
       "      <td>0</td>\n",
       "      <td>0</td>\n",
       "      <td>2</td>\n",
       "      <td>0.000</td>\n",
       "      <td>0</td>\n",
       "      <td>2021-09-01</td>\n",
       "      <td>0</td>\n",
       "      <td>2</td>\n",
       "      <td>1</td>\n",
       "      <td>0</td>\n",
       "      <td>0</td>\n",
       "      <td>9</td>\n",
       "      <td>2</td>\n",
       "    </tr>\n",
       "  </tbody>\n",
       "</table>\n",
       "</div>"
      ],
      "text/plain": [
       "   county  is_business  product_type  target  is_consumption   datetime  \\\n",
       "0       0            0             1   0.713               0 2021-09-01   \n",
       "1       0            0             1  96.590               1 2021-09-01   \n",
       "2       0            0             2   0.000               0 2021-09-01   \n",
       "\n",
       "   data_block_id  row_id  prediction_unit_id  day_no  hour  month  weekday  \n",
       "0              0       0                   0       0     0      9        2  \n",
       "1              0       1                   0       0     0      9        2  \n",
       "2              0       2                   1       0     0      9        2  "
      ]
     },
     "execution_count": 28,
     "metadata": {},
     "output_type": "execute_result"
    }
   ],
   "source": [
    "train['datetime'] = pd.to_datetime(train.datetime)\n",
    "earliest = train['datetime'].min()\n",
    "train['day_no'] = (train['datetime'] - earliest).dt.days\n",
    "train['hour'] = train['datetime'].apply(lambda x: x.hour)\n",
    "train['month'] = train['datetime'].apply(lambda x: x.month)\n",
    "train['weekday'] = train['datetime'].apply(lambda x: x.dayofweek)\n",
    "train.head(3)"
   ]
  },
  {
   "cell_type": "code",
   "execution_count": 29,
   "metadata": {},
   "outputs": [],
   "source": [
    "train2 = train.copy()\n",
    "train2['product_type'] = (train2['product_type'] + 1) % 4\n",
    "X = train2[['is_business', 'is_consumption', 'product_type', 'day_no', 'hour', 'month', 'weekday']]\n",
    "y = train2['target']"
   ]
  },
  {
   "cell_type": "code",
   "execution_count": 30,
   "metadata": {},
   "outputs": [],
   "source": [
    "from sklearn.model_selection import train_test_split\n",
    "from sklearn.linear_model import LinearRegression\n",
    "from sklearn.metrics import mean_absolute_error\n",
    "\n",
    "X_train_and_validate, X_test, y_train_and_validate, y_test = train_test_split(X, y, test_size=200000, random_state=0)\n",
    "X_train, X_valid, y_train, y_valid =  train_test_split(X_train_and_validate, y_train_and_validate, test_size=200000, random_state=0)"
   ]
  },
  {
   "cell_type": "code",
   "execution_count": 31,
   "metadata": {},
   "outputs": [
    {
     "name": "stdout",
     "output_type": "stream",
     "text": [
      "MAE: training set\n",
      "361.855556550744\n",
      "MAE: validation set\n",
      "359.9827299547037\n"
     ]
    }
   ],
   "source": [
    "linreg = LinearRegression()\n",
    "linreg.fit(X_train, y_train)\n",
    "y_predict_train = linreg.predict(X_train)\n",
    "y_predict_valid = linreg.predict(X_valid)\n",
    "print('MAE: training set')\n",
    "print(mean_absolute_error(y_predict_train, y_train))\n",
    "print('MAE: validation set')\n",
    "print(mean_absolute_error(y_predict_valid, y_valid))"
   ]
  },
  {
   "cell_type": "code",
   "execution_count": 32,
   "metadata": {},
   "outputs": [
    {
     "name": "stdout",
     "output_type": "stream",
     "text": [
      "0 / 3424512\n",
      "1000000 / 3424512\n",
      "2000000 / 3424512\n",
      "3000000 / 3424512\n"
     ]
    },
    {
     "data": {
      "text/plain": [
       "10_metre_u_wind_component                  0\n",
       "10_metre_v_wind_component                  0\n",
       "cloudcover_high                            0\n",
       "cloudcover_low                             0\n",
       "cloudcover_mid                             0\n",
       "cloudcover_total                           0\n",
       "county_id                            2935296\n",
       "data_block_id                              0\n",
       "dewpoint                                   0\n",
       "direct_solar_radiation                     0\n",
       "forecast_datetime                          0\n",
       "hours_ahead                                0\n",
       "latitude                                   0\n",
       "longitude                                  0\n",
       "origin_datetime                            0\n",
       "snowfall                                   0\n",
       "surface_solar_radiation_downwards          2\n",
       "temperature                                0\n",
       "total_precipitation                        0\n",
       "dtype: int64"
      ]
     },
     "execution_count": 32,
     "metadata": {},
     "output_type": "execute_result"
    }
   ],
   "source": [
    "county_map = {\n",
    "    (24.7, 59.4): 0,\n",
    "    (22.7, 58.8): 1,\n",
    "    (27.2, 59.4): 2,\n",
    "    (25.7, 58.8): 3,\n",
    "    (26.2, 58.8): 4,\n",
    "    (26.2, 59.4): 5,\n",
    "    (23.7, 58.8): 6,\n",
    "    (24.2, 58.5): 7,\n",
    "    (27.2, 58.2): 8,\n",
    "    (24.7, 58.8): 9,\n",
    "    (22.7, 58.5): 10,\n",
    "    (26.7, 58.5): 11,\n",
    "    (24.7, 59.1): 12,\n",
    "    (26.2, 57.9): 13,\n",
    "    (25.2, 58.5): 14,\n",
    "    (27.2, 57.9): 15\n",
    "}\n",
    "def get_county_id(row):\n",
    "    lat, lon = row['latitude'], row['longitude']\n",
    "    if int(row.name) % 1000000 == 0:\n",
    "        print(row.name, '/', len(forecast_weather))\n",
    "    if (lon, lat) in county_map:\n",
    "        row['county_id'] = county_map[(lon, lat)]\n",
    "    return row\n",
    "forecast_weather2 = forecast_weather.apply(get_county_id, axis=1)\n",
    "forecast_weather2.isnull().sum()"
   ]
  },
  {
   "cell_type": "code",
   "execution_count": 34,
   "metadata": {},
   "outputs": [
    {
     "data": {
      "text/html": [
       "<div>\n",
       "<style scoped>\n",
       "    .dataframe tbody tr th:only-of-type {\n",
       "        vertical-align: middle;\n",
       "    }\n",
       "\n",
       "    .dataframe tbody tr th {\n",
       "        vertical-align: top;\n",
       "    }\n",
       "\n",
       "    .dataframe thead th {\n",
       "        text-align: right;\n",
       "    }\n",
       "</style>\n",
       "<table border=\"1\" class=\"dataframe\">\n",
       "  <thead>\n",
       "    <tr style=\"text-align: right;\">\n",
       "      <th></th>\n",
       "      <th>Unnamed: 0</th>\n",
       "      <th>10_metre_u_wind_component</th>\n",
       "      <th>10_metre_v_wind_component</th>\n",
       "      <th>cloudcover_high</th>\n",
       "      <th>cloudcover_low</th>\n",
       "      <th>cloudcover_mid</th>\n",
       "      <th>cloudcover_total</th>\n",
       "      <th>county_id</th>\n",
       "      <th>data_block_id</th>\n",
       "      <th>dewpoint</th>\n",
       "      <th>direct_solar_radiation</th>\n",
       "      <th>forecast_datetime</th>\n",
       "      <th>hours_ahead</th>\n",
       "      <th>latitude</th>\n",
       "      <th>longitude</th>\n",
       "      <th>origin_datetime</th>\n",
       "      <th>snowfall</th>\n",
       "      <th>surface_solar_radiation_downwards</th>\n",
       "      <th>temperature</th>\n",
       "      <th>total_precipitation</th>\n",
       "    </tr>\n",
       "  </thead>\n",
       "  <tbody>\n",
       "    <tr>\n",
       "      <th>0</th>\n",
       "      <td>23</td>\n",
       "      <td>1.523974</td>\n",
       "      <td>-2.439878</td>\n",
       "      <td>0.248322</td>\n",
       "      <td>0.104279</td>\n",
       "      <td>0.066223</td>\n",
       "      <td>0.332809</td>\n",
       "      <td>13.0</td>\n",
       "      <td>1</td>\n",
       "      <td>9.031396</td>\n",
       "      <td>0.0</td>\n",
       "      <td>2021-09-01 01:00:00+00:00</td>\n",
       "      <td>1</td>\n",
       "      <td>57.9</td>\n",
       "      <td>26.2</td>\n",
       "      <td>2021-09-01 00:00:00+00:00</td>\n",
       "      <td>0.0</td>\n",
       "      <td>0.0</td>\n",
       "      <td>10.058984</td>\n",
       "      <td>0.0</td>\n",
       "    </tr>\n",
       "    <tr>\n",
       "      <th>1</th>\n",
       "      <td>25</td>\n",
       "      <td>1.588183</td>\n",
       "      <td>-2.117612</td>\n",
       "      <td>0.057373</td>\n",
       "      <td>0.080933</td>\n",
       "      <td>0.004593</td>\n",
       "      <td>0.133881</td>\n",
       "      <td>15.0</td>\n",
       "      <td>1</td>\n",
       "      <td>9.018335</td>\n",
       "      <td>0.0</td>\n",
       "      <td>2021-09-01 01:00:00+00:00</td>\n",
       "      <td>1</td>\n",
       "      <td>57.9</td>\n",
       "      <td>27.2</td>\n",
       "      <td>2021-09-01 00:00:00+00:00</td>\n",
       "      <td>0.0</td>\n",
       "      <td>0.0</td>\n",
       "      <td>10.050806</td>\n",
       "      <td>0.0</td>\n",
       "    </tr>\n",
       "    <tr>\n",
       "      <th>2</th>\n",
       "      <td>39</td>\n",
       "      <td>2.072436</td>\n",
       "      <td>-1.438657</td>\n",
       "      <td>0.000000</td>\n",
       "      <td>0.076691</td>\n",
       "      <td>0.133987</td>\n",
       "      <td>0.143875</td>\n",
       "      <td>8.0</td>\n",
       "      <td>1</td>\n",
       "      <td>8.484277</td>\n",
       "      <td>0.0</td>\n",
       "      <td>2021-09-01 01:00:00+00:00</td>\n",
       "      <td>1</td>\n",
       "      <td>58.2</td>\n",
       "      <td>27.2</td>\n",
       "      <td>2021-09-01 00:00:00+00:00</td>\n",
       "      <td>0.0</td>\n",
       "      <td>0.0</td>\n",
       "      <td>9.637109</td>\n",
       "      <td>0.0</td>\n",
       "    </tr>\n",
       "    <tr>\n",
       "      <th>3</th>\n",
       "      <td>44</td>\n",
       "      <td>1.645679</td>\n",
       "      <td>-4.721860</td>\n",
       "      <td>0.462769</td>\n",
       "      <td>0.030365</td>\n",
       "      <td>0.000000</td>\n",
       "      <td>0.479096</td>\n",
       "      <td>10.0</td>\n",
       "      <td>1</td>\n",
       "      <td>10.484766</td>\n",
       "      <td>0.0</td>\n",
       "      <td>2021-09-01 01:00:00+00:00</td>\n",
       "      <td>1</td>\n",
       "      <td>58.5</td>\n",
       "      <td>22.7</td>\n",
       "      <td>2021-09-01 00:00:00+00:00</td>\n",
       "      <td>0.0</td>\n",
       "      <td>0.0</td>\n",
       "      <td>12.734277</td>\n",
       "      <td>0.0</td>\n",
       "    </tr>\n",
       "    <tr>\n",
       "      <th>4</th>\n",
       "      <td>47</td>\n",
       "      <td>1.527026</td>\n",
       "      <td>-3.641782</td>\n",
       "      <td>0.001282</td>\n",
       "      <td>0.425385</td>\n",
       "      <td>0.000290</td>\n",
       "      <td>0.426010</td>\n",
       "      <td>7.0</td>\n",
       "      <td>1</td>\n",
       "      <td>9.743921</td>\n",
       "      <td>0.0</td>\n",
       "      <td>2021-09-01 01:00:00+00:00</td>\n",
       "      <td>1</td>\n",
       "      <td>58.5</td>\n",
       "      <td>24.2</td>\n",
       "      <td>2021-09-01 00:00:00+00:00</td>\n",
       "      <td>0.0</td>\n",
       "      <td>0.0</td>\n",
       "      <td>12.436060</td>\n",
       "      <td>0.0</td>\n",
       "    </tr>\n",
       "  </tbody>\n",
       "</table>\n",
       "</div>"
      ],
      "text/plain": [
       "   Unnamed: 0  10_metre_u_wind_component  10_metre_v_wind_component  \\\n",
       "0          23                   1.523974                  -2.439878   \n",
       "1          25                   1.588183                  -2.117612   \n",
       "2          39                   2.072436                  -1.438657   \n",
       "3          44                   1.645679                  -4.721860   \n",
       "4          47                   1.527026                  -3.641782   \n",
       "\n",
       "   cloudcover_high  cloudcover_low  cloudcover_mid  cloudcover_total  \\\n",
       "0         0.248322        0.104279        0.066223          0.332809   \n",
       "1         0.057373        0.080933        0.004593          0.133881   \n",
       "2         0.000000        0.076691        0.133987          0.143875   \n",
       "3         0.462769        0.030365        0.000000          0.479096   \n",
       "4         0.001282        0.425385        0.000290          0.426010   \n",
       "\n",
       "   county_id  data_block_id   dewpoint  direct_solar_radiation  \\\n",
       "0       13.0              1   9.031396                     0.0   \n",
       "1       15.0              1   9.018335                     0.0   \n",
       "2        8.0              1   8.484277                     0.0   \n",
       "3       10.0              1  10.484766                     0.0   \n",
       "4        7.0              1   9.743921                     0.0   \n",
       "\n",
       "           forecast_datetime  hours_ahead  latitude  longitude  \\\n",
       "0  2021-09-01 01:00:00+00:00            1      57.9       26.2   \n",
       "1  2021-09-01 01:00:00+00:00            1      57.9       27.2   \n",
       "2  2021-09-01 01:00:00+00:00            1      58.2       27.2   \n",
       "3  2021-09-01 01:00:00+00:00            1      58.5       22.7   \n",
       "4  2021-09-01 01:00:00+00:00            1      58.5       24.2   \n",
       "\n",
       "             origin_datetime  snowfall  surface_solar_radiation_downwards  \\\n",
       "0  2021-09-01 00:00:00+00:00       0.0                                0.0   \n",
       "1  2021-09-01 00:00:00+00:00       0.0                                0.0   \n",
       "2  2021-09-01 00:00:00+00:00       0.0                                0.0   \n",
       "3  2021-09-01 00:00:00+00:00       0.0                                0.0   \n",
       "4  2021-09-01 00:00:00+00:00       0.0                                0.0   \n",
       "\n",
       "   temperature  total_precipitation  \n",
       "0    10.058984                  0.0  \n",
       "1    10.050806                  0.0  \n",
       "2     9.637109                  0.0  \n",
       "3    12.734277                  0.0  \n",
       "4    12.436060                  0.0  "
      ]
     },
     "execution_count": 34,
     "metadata": {},
     "output_type": "execute_result"
    }
   ],
   "source": [
    "# forecast_weather3 = forecast_weather2.dropna()\n",
    "# forecast_weather3.to_csv('output/forecast_weather_county_id.csv')\n",
    "# forecast_weather3.head(3)\n",
    "forecast_weather3 = pd.read_csv('output/forecast_weather_county_id.csv')\n",
    "forecast_weather3.head()"
   ]
  },
  {
   "cell_type": "code",
   "execution_count": 95,
   "metadata": {},
   "outputs": [],
   "source": [
    "earliest = train['datetime'].min()\n",
    "forecast_weather3['origin_datetime'] = pd.to_datetime(forecast_weather3['origin_datetime'], utc=True)\n",
    "forecast_weather3['day_no'] = (forecast_weather3['origin_datetime'] - earliest.tz_localize('UTC')).dt.days"
   ]
  },
  {
   "cell_type": "code",
   "execution_count": 96,
   "metadata": {},
   "outputs": [
    {
     "data": {
      "text/plain": [
       "(2014896, 33)"
      ]
     },
     "execution_count": 96,
     "metadata": {},
     "output_type": "execute_result"
    }
   ],
   "source": [
    "weather_cols = ['10_metre_u_wind_component', '10_metre_v_wind_component', \n",
    "                'cloudcover_high', 'cloudcover_low',\n",
    "                'cloudcover_mid', 'cloudcover_total', 'dewpoint', \n",
    "                'direct_solar_radiation', 'snowfall', 'surface_solar_radiation_downwards',\n",
    "                'temperature', 'total_precipitation']\n",
    "train3 = train2.copy()\n",
    "forecast_weather4 = forecast_weather3[forecast_weather3['hours_ahead'] == 1]\n",
    "\n",
    "train4 = pd.merge(train3, forecast_weather4, how='left', left_on=['county','day_no'], right_on = ['county_id','day_no'])\n",
    "train4 = train4.dropna()\n",
    "train4.shape"
   ]
  },
  {
   "cell_type": "code",
   "execution_count": 97,
   "metadata": {},
   "outputs": [
    {
     "data": {
      "image/png": "[encoded data removed]",
      "text/plain": [
       "<Figure size 640x480 with 1 Axes>"
      ]
     },
     "metadata": {},
     "output_type": "display_data"
    }
   ],
   "source": [
    "col = 'wind'\n",
    "train5 = train4.copy()\n",
    "train5['wind'] = np.sqrt(train5['10_metre_v_wind_component'] ** 2 + train5['10_metre_u_wind_component'] ** 2)\n",
    "train5[col] = pd.qcut(train5[col], 10, labels=False, duplicates='drop')\n",
    "g = train5.groupby(col)['target'].agg('mean')\n",
    "plt.scatter(g.index, g, s=5);"
   ]
  },
  {
   "cell_type": "code",
   "execution_count": 98,
   "metadata": {},
   "outputs": [],
   "source": [
    "X = train5[['is_business', 'is_consumption', 'product_type', 'day_no', 'hour', 'month', 'weekday',\n",
    "            'cloudcover_high', 'cloudcover_low',\n",
    "                'cloudcover_mid', 'cloudcover_total', 'dewpoint', \n",
    "                'direct_solar_radiation', 'snowfall', 'surface_solar_radiation_downwards',\n",
    "                'temperature', 'total_precipitation', 'wind']]\n",
    "y = train5['target']\n",
    "\n",
    "X_train_and_validate, X_test, y_train_and_validate, y_test = train_test_split(X, y, test_size=200000, random_state=0)\n",
    "X_train, X_valid, y_train, y_valid =  train_test_split(X_train_and_validate, y_train_and_validate, test_size=200000, random_state=0)"
   ]
  },
  {
   "cell_type": "code",
   "execution_count": 99,
   "metadata": {},
   "outputs": [
    {
     "name": "stdout",
     "output_type": "stream",
     "text": [
      "MAE: training set\n",
      "361.5394246779996\n",
      "MAE: validation set\n",
      "362.55282603719627\n"
     ]
    }
   ],
   "source": [
    "linreg = LinearRegression()\n",
    "linreg.fit(X_train, y_train)\n",
    "y_predict_train = linreg.predict(X_train)\n",
    "y_predict_valid = linreg.predict(X_valid)\n",
    "print('MAE: training set')\n",
    "print(mean_absolute_error(y_predict_train, y_train))\n",
    "print('MAE: validation set')\n",
    "print(mean_absolute_error(y_predict_valid, y_valid))"
   ]
  },
  {
   "cell_type": "code",
   "execution_count": 127,
   "metadata": {},
   "outputs": [
    {
     "data": {
      "text/html": [
       "<div>\n",
       "<style scoped>\n",
       "    .dataframe tbody tr th:only-of-type {\n",
       "        vertical-align: middle;\n",
       "    }\n",
       "\n",
       "    .dataframe tbody tr th {\n",
       "        vertical-align: top;\n",
       "    }\n",
       "\n",
       "    .dataframe thead th {\n",
       "        text-align: right;\n",
       "    }\n",
       "</style>\n",
       "<table border=\"1\" class=\"dataframe\">\n",
       "  <thead>\n",
       "    <tr style=\"text-align: right;\">\n",
       "      <th></th>\n",
       "      <th>forecast_date</th>\n",
       "      <th>lowest_price_per_mwh</th>\n",
       "      <th>highest_price_per_mwh</th>\n",
       "      <th>origin_date</th>\n",
       "      <th>data_block_id</th>\n",
       "      <th>gp_day_no</th>\n",
       "    </tr>\n",
       "  </thead>\n",
       "  <tbody>\n",
       "    <tr>\n",
       "      <th>0</th>\n",
       "      <td>2021-09-01 00:00:00+00:00</td>\n",
       "      <td>45.23</td>\n",
       "      <td>46.32</td>\n",
       "      <td>2021-08-31</td>\n",
       "      <td>1</td>\n",
       "      <td>0</td>\n",
       "    </tr>\n",
       "    <tr>\n",
       "      <th>1</th>\n",
       "      <td>2021-09-02 00:00:00+00:00</td>\n",
       "      <td>45.62</td>\n",
       "      <td>46.29</td>\n",
       "      <td>2021-09-01</td>\n",
       "      <td>2</td>\n",
       "      <td>1</td>\n",
       "    </tr>\n",
       "  </tbody>\n",
       "</table>\n",
       "</div>"
      ],
      "text/plain": [
       "              forecast_date  lowest_price_per_mwh  highest_price_per_mwh  \\\n",
       "0 2021-09-01 00:00:00+00:00                 45.23                  46.32   \n",
       "1 2021-09-02 00:00:00+00:00                 45.62                  46.29   \n",
       "\n",
       "  origin_date  data_block_id  gp_day_no  \n",
       "0  2021-08-31              1          0  \n",
       "1  2021-09-01              2          1  "
      ]
     },
     "execution_count": 127,
     "metadata": {},
     "output_type": "execute_result"
    }
   ],
   "source": [
    "gas_prices2 = gas_prices.copy()\n",
    "earliest = train['datetime'].min()\n",
    "gas_prices2['forecast_date'] = pd.to_datetime(gas_prices2['forecast_date'], utc=True)\n",
    "gas_prices2['gp_day_no'] = (gas_prices2['forecast_date'] - earliest.tz_localize('UTC')).dt.days\n",
    "\n",
    "electricity_prices2 = electricity_prices.copy()\n",
    "electricity_prices2['forecast_date'] = pd.to_datetime(electricity_prices2['forecast_date'], utc=True)\n",
    "electricity_prices2['ep_day_no'] = (electricity_prices2['forecast_date'] - earliest.tz_localize('UTC')).dt.days\n",
    "electricity_prices2['ep_hour'] = electricity_prices2['forecast_date'].apply(lambda x: x.hour)\n",
    "gas_prices2.head(2)"
   ]
  },
  {
   "cell_type": "code",
   "execution_count": 137,
   "metadata": {},
   "outputs": [
    {
     "data": {
      "text/plain": [
       "(2017824, 25)"
      ]
     },
     "execution_count": 137,
     "metadata": {},
     "output_type": "execute_result"
    }
   ],
   "source": [
    "train6 = pd.merge(train3, gas_prices2, how='left', left_on=['day_no'], right_on=['gp_day_no'])\n",
    "train6 = pd.merge(train6, electricity_prices2, how='left', left_on=['day_no', 'hour'], right_on=['ep_day_no', 'ep_hour'])\n",
    "train6.shape"
   ]
  },
  {
   "cell_type": "code",
   "execution_count": 160,
   "metadata": {},
   "outputs": [
    {
     "name": "stderr",
     "output_type": "stream",
     "text": [
      "/var/folders/_6/mpgcpwh91fj0m40mz9gtqmp80000gn/T/ipykernel_93206/3374148264.py:4: SettingWithCopyWarning: \n",
      "A value is trying to be set on a copy of a slice from a DataFrame.\n",
      "Try using .loc[row_indexer,col_indexer] = value instead\n",
      "\n",
      "See the caveats in the documentation: https://pandas.pydata.org/pandas-docs/stable/user_guide/indexing.html#returning-a-view-versus-a-copy\n",
      "  train7['highest_price_per_mwh'] = pd.qcut(train7['highest_price_per_mwh'], 15, labels=False, duplicates='drop')\n",
      "/var/folders/_6/mpgcpwh91fj0m40mz9gtqmp80000gn/T/ipykernel_93206/3374148264.py:5: SettingWithCopyWarning: \n",
      "A value is trying to be set on a copy of a slice from a DataFrame.\n",
      "Try using .loc[row_indexer,col_indexer] = value instead\n",
      "\n",
      "See the caveats in the documentation: https://pandas.pydata.org/pandas-docs/stable/user_guide/indexing.html#returning-a-view-versus-a-copy\n",
      "  train7['lowest_price_per_mwh'] = pd.qcut(train7['lowest_price_per_mwh'], 10, labels=False, duplicates='drop')\n",
      "/var/folders/_6/mpgcpwh91fj0m40mz9gtqmp80000gn/T/ipykernel_93206/3374148264.py:6: SettingWithCopyWarning: \n",
      "A value is trying to be set on a copy of a slice from a DataFrame.\n",
      "Try using .loc[row_indexer,col_indexer] = value instead\n",
      "\n",
      "See the caveats in the documentation: https://pandas.pydata.org/pandas-docs/stable/user_guide/indexing.html#returning-a-view-versus-a-copy\n",
      "  train7['euros_per_mwh'] = pd.qcut(train7['euros_per_mwh'], 10, labels=False, duplicates='drop')\n"
     ]
    }
   ],
   "source": [
    "# bins: highest_price_per_mwh, 15, lowest_price_per_mwh: 10, euros_per_mwh: 10\n",
    "\n",
    "train7 = train6.dropna()\n",
    "train7['highest_price_per_mwh'] = pd.qcut(train7['highest_price_per_mwh'], 15, labels=False, duplicates='drop')\n",
    "train7['lowest_price_per_mwh'] = pd.qcut(train7['lowest_price_per_mwh'], 10, labels=False, duplicates='drop')\n",
    "train7['euros_per_mwh'] = pd.qcut(train7['euros_per_mwh'], 10, labels=False, duplicates='drop')\n",
    "# g = train7.groupby(col)['target'].agg('mean')\n",
    "# plt.scatter(g.index, g, s=10);"
   ]
  },
  {
   "cell_type": "code",
   "execution_count": 161,
   "metadata": {},
   "outputs": [],
   "source": [
    "X = train7[['is_business', 'is_consumption', 'product_type', 'day_no', 'hour', 'month', 'weekday',\n",
    "            'euros_per_mwh', 'highest_price_per_mwh', 'lowest_price_per_mwh']]\n",
    "y = train7['target']\n",
    "\n",
    "X_train_and_validate, X_test, y_train_and_validate, y_test = train_test_split(X, y, test_size=200000, random_state=0)\n",
    "X_train, X_valid, y_train, y_valid =  train_test_split(X_train_and_validate, y_train_and_validate, test_size=200000, random_state=0)"
   ]
  },
  {
   "cell_type": "code",
   "execution_count": 162,
   "metadata": {},
   "outputs": [
    {
     "name": "stdout",
     "output_type": "stream",
     "text": [
      "MAE: training set\n",
      "361.0264412249774\n",
      "MAE: validation set\n",
      "365.83879317663303\n"
     ]
    }
   ],
   "source": [
    "linreg = LinearRegression()\n",
    "linreg.fit(X_train, y_train)\n",
    "y_predict_train = linreg.predict(X_train)\n",
    "y_predict_valid = linreg.predict(X_valid)\n",
    "print('MAE: training set')\n",
    "print(mean_absolute_error(y_predict_train, y_train))\n",
    "print('MAE: validation set')\n",
    "print(mean_absolute_error(y_predict_valid, y_valid))"
   ]
  },
  {
   "cell_type": "code",
   "execution_count": 165,
   "metadata": {},
   "outputs": [
    {
     "name": "stdout",
     "output_type": "stream",
     "text": [
      "0 / 3424512\n",
      "1000000 / 3424512\n"
     ]
    },
    {
     "data": {
      "text/plain": [
       "cloudcover_high                 0\n",
       "cloudcover_low                  0\n",
       "cloudcover_mid                  0\n",
       "cloudcover_total                0\n",
       "county_id                 1466400\n",
       "data_block_id                   0\n",
       "datetime                        0\n",
       "dewpoint                        0\n",
       "diffuse_radiation               0\n",
       "direct_solar_radiation          0\n",
       "latitude                        0\n",
       "longitude                       0\n",
       "rain                            0\n",
       "shortwave_radiation             0\n",
       "snowfall                        0\n",
       "surface_pressure                0\n",
       "temperature                     0\n",
       "winddirection_10m               0\n",
       "windspeed_10m                   0\n",
       "dtype: int64"
      ]
     },
     "execution_count": 165,
     "metadata": {},
     "output_type": "execute_result"
    }
   ],
   "source": [
    "historical_weather2 = historical_weather.apply(get_county_id, axis=1)\n",
    "historical_weather2.isnull().sum()"
   ]
  },
  {
   "cell_type": "code",
   "execution_count": 206,
   "metadata": {},
   "outputs": [
    {
     "data": {
      "text/html": [
       "<div>\n",
       "<style scoped>\n",
       "    .dataframe tbody tr th:only-of-type {\n",
       "        vertical-align: middle;\n",
       "    }\n",
       "\n",
       "    .dataframe tbody tr th {\n",
       "        vertical-align: top;\n",
       "    }\n",
       "\n",
       "    .dataframe thead th {\n",
       "        text-align: right;\n",
       "    }\n",
       "</style>\n",
       "<table border=\"1\" class=\"dataframe\">\n",
       "  <thead>\n",
       "    <tr style=\"text-align: right;\">\n",
       "      <th></th>\n",
       "      <th>cloudcover_high</th>\n",
       "      <th>cloudcover_low</th>\n",
       "      <th>cloudcover_mid</th>\n",
       "      <th>cloudcover_total</th>\n",
       "      <th>county_id</th>\n",
       "      <th>data_block_id</th>\n",
       "      <th>datetime</th>\n",
       "      <th>dewpoint</th>\n",
       "      <th>diffuse_radiation</th>\n",
       "      <th>direct_solar_radiation</th>\n",
       "      <th>latitude</th>\n",
       "      <th>longitude</th>\n",
       "      <th>rain</th>\n",
       "      <th>shortwave_radiation</th>\n",
       "      <th>snowfall</th>\n",
       "      <th>surface_pressure</th>\n",
       "      <th>temperature</th>\n",
       "      <th>winddirection_10m</th>\n",
       "      <th>windspeed_10m</th>\n",
       "    </tr>\n",
       "  </thead>\n",
       "  <tbody>\n",
       "    <tr>\n",
       "      <th>23</th>\n",
       "      <td>86</td>\n",
       "      <td>16</td>\n",
       "      <td>0</td>\n",
       "      <td>40</td>\n",
       "      <td>13.0</td>\n",
       "      <td>1</td>\n",
       "      <td>2021-09-01 00:00:00</td>\n",
       "      <td>11.1</td>\n",
       "      <td>0.0</td>\n",
       "      <td>0.0</td>\n",
       "      <td>57.9</td>\n",
       "      <td>26.2</td>\n",
       "      <td>0.0</td>\n",
       "      <td>0.0</td>\n",
       "      <td>0.0</td>\n",
       "      <td>1005.6</td>\n",
       "      <td>13.6</td>\n",
       "      <td>354</td>\n",
       "      <td>3.722222</td>\n",
       "    </tr>\n",
       "    <tr>\n",
       "      <th>25</th>\n",
       "      <td>96</td>\n",
       "      <td>81</td>\n",
       "      <td>7</td>\n",
       "      <td>100</td>\n",
       "      <td>15.0</td>\n",
       "      <td>1</td>\n",
       "      <td>2021-09-01 00:00:00</td>\n",
       "      <td>12.0</td>\n",
       "      <td>0.0</td>\n",
       "      <td>0.0</td>\n",
       "      <td>57.9</td>\n",
       "      <td>27.2</td>\n",
       "      <td>0.0</td>\n",
       "      <td>0.0</td>\n",
       "      <td>0.0</td>\n",
       "      <td>999.6</td>\n",
       "      <td>13.6</td>\n",
       "      <td>360</td>\n",
       "      <td>3.611111</td>\n",
       "    </tr>\n",
       "  </tbody>\n",
       "</table>\n",
       "</div>"
      ],
      "text/plain": [
       "    cloudcover_high  cloudcover_low  cloudcover_mid  cloudcover_total  \\\n",
       "23               86              16               0                40   \n",
       "25               96              81               7               100   \n",
       "\n",
       "    county_id  data_block_id             datetime  dewpoint  \\\n",
       "23       13.0              1  2021-09-01 00:00:00      11.1   \n",
       "25       15.0              1  2021-09-01 00:00:00      12.0   \n",
       "\n",
       "    diffuse_radiation  direct_solar_radiation  latitude  longitude  rain  \\\n",
       "23                0.0                     0.0      57.9       26.2   0.0   \n",
       "25                0.0                     0.0      57.9       27.2   0.0   \n",
       "\n",
       "    shortwave_radiation  snowfall  surface_pressure  temperature  \\\n",
       "23                  0.0       0.0            1005.6         13.6   \n",
       "25                  0.0       0.0             999.6         13.6   \n",
       "\n",
       "    winddirection_10m  windspeed_10m  \n",
       "23                354       3.722222  \n",
       "25                360       3.611111  "
      ]
     },
     "execution_count": 206,
     "metadata": {},
     "output_type": "execute_result"
    }
   ],
   "source": [
    "historical_weather3 = historical_weather2.dropna()\n",
    "historical_weather3.to_csv('output/historical_weather_county_id.csv')\n",
    "historical_weather3.head(2)"
   ]
  },
  {
   "cell_type": "code",
   "execution_count": 209,
   "metadata": {},
   "outputs": [
    {
     "name": "stderr",
     "output_type": "stream",
     "text": [
      "/var/folders/_6/mpgcpwh91fj0m40mz9gtqmp80000gn/T/ipykernel_93206/3185267968.py:2: SettingWithCopyWarning: \n",
      "A value is trying to be set on a copy of a slice from a DataFrame.\n",
      "Try using .loc[row_indexer,col_indexer] = value instead\n",
      "\n",
      "See the caveats in the documentation: https://pandas.pydata.org/pandas-docs/stable/user_guide/indexing.html#returning-a-view-versus-a-copy\n",
      "  historical_weather3['datetime'] = pd.to_datetime(historical_weather3['datetime'], utc=True)\n",
      "/var/folders/_6/mpgcpwh91fj0m40mz9gtqmp80000gn/T/ipykernel_93206/3185267968.py:3: SettingWithCopyWarning: \n",
      "A value is trying to be set on a copy of a slice from a DataFrame.\n",
      "Try using .loc[row_indexer,col_indexer] = value instead\n",
      "\n",
      "See the caveats in the documentation: https://pandas.pydata.org/pandas-docs/stable/user_guide/indexing.html#returning-a-view-versus-a-copy\n",
      "  historical_weather3['day_no'] = (historical_weather3['datetime'] - earliest.tz_localize('UTC')).dt.days\n",
      "/var/folders/_6/mpgcpwh91fj0m40mz9gtqmp80000gn/T/ipykernel_93206/3185267968.py:4: SettingWithCopyWarning: \n",
      "A value is trying to be set on a copy of a slice from a DataFrame.\n",
      "Try using .loc[row_indexer,col_indexer] = value instead\n",
      "\n",
      "See the caveats in the documentation: https://pandas.pydata.org/pandas-docs/stable/user_guide/indexing.html#returning-a-view-versus-a-copy\n",
      "  historical_weather3['hour'] = historical_weather3['datetime'].apply(lambda x: x.hour)\n"
     ]
    }
   ],
   "source": [
    "earliest = train['datetime'].min()\n",
    "historical_weather3['datetime'] = pd.to_datetime(historical_weather3['datetime'], utc=True)\n",
    "historical_weather3['day_no'] = (historical_weather3['datetime'] - earliest.tz_localize('UTC')).dt.days\n",
    "historical_weather3['hour'] = historical_weather3['datetime'].apply(lambda x: x.hour)\n",
    "train8 = pd.merge(train3, historical_weather3, how='left', left_on=['county','day_no', 'hour'], right_on = ['county_id','day_no', 'hour'])"
   ]
  },
  {
   "cell_type": "code",
   "execution_count": 219,
   "metadata": {},
   "outputs": [],
   "source": [
    "train9 = train8.dropna()\n",
    "X = train9[['is_business', 'is_consumption', 'product_type', 'day_no', 'hour', 'month', 'weekday',\n",
    "            'cloudcover_high', 'cloudcover_low',\n",
    "                'cloudcover_mid', 'cloudcover_total', 'dewpoint', 'diffuse_radiation', 'rain',\n",
    "                'direct_solar_radiation', 'snowfall', 'shortwave_radiation',\n",
    "                'temperature', 'surface_pressure', 'windspeed_10m']]\n",
    "y = train9['target']\n",
    "\n",
    "X_train_and_validate, X_test, y_train_and_validate, y_test = train_test_split(X, y, test_size=200000, random_state=0)\n",
    "X_train, X_valid, y_train, y_valid =  train_test_split(X_train_and_validate, y_train_and_validate, test_size=200000, random_state=0)\n"
   ]
  },
  {
   "cell_type": "code",
   "execution_count": 221,
   "metadata": {},
   "outputs": [
    {
     "name": "stdout",
     "output_type": "stream",
     "text": [
      "MAE: training set\n",
      "76.62308174220433\n",
      "MAE: validation set\n",
      "205.773047497675\n"
     ]
    }
   ],
   "source": [
    "from sklearn.ensemble import RandomForestRegressor\n",
    "linreg = RandomForestRegressor()\n",
    "linreg.fit(X_train, y_train)\n",
    "y_predict_train = linreg.predict(X_train)\n",
    "y_predict_valid = linreg.predict(X_valid)\n",
    "print('MAE: training set')\n",
    "print(mean_absolute_error(y_predict_train, y_train))\n",
    "print('MAE: validation set')\n",
    "print(mean_absolute_error(y_predict_valid, y_valid))"
   ]
  }
 ],
 "metadata": {
  "kernelspec": {
   "display_name": "Python 3",
   "language": "python",
   "name": "python3"
  },
  "language_info": {
   "codemirror_mode": {
    "name": "ipython",
    "version": 3
   },
   "file_extension": ".py",
   "mimetype": "text/x-python",
   "name": "python",
   "nbconvert_exporter": "python",
   "pygments_lexer": "ipython3",
   "version": "3.11.0"
  }
 },
 "nbformat": 4,
 "nbformat_minor": 2
}
