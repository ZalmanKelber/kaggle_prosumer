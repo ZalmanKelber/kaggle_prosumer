{
 "cells": [
  {
   "cell_type": "code",
   "execution_count": 1,
   "metadata": {},
   "outputs": [],
   "source": [
    "\n",
    "import pandas as pd\n",
    "import numpy as np\n",
    "import matplotlib.pyplot as plt\n",
    "import seaborn as sns\n",
    "sns.set()\n",
    "import statsmodels.api as sm \n",
    "\n",
    "from sklearn.linear_model import LinearRegression\n",
    "from sklearn.preprocessing import StandardScaler, PolynomialFeatures\n",
    "from sklearn.model_selection import train_test_split\n",
    "from sklearn.metrics import mean_absolute_error\n"
   ]
  },
  {
   "cell_type": "code",
   "execution_count": 2,
   "metadata": {},
   "outputs": [],
   "source": [
    "# cols = ['target', 'is_business', 'product_type', 'county', 'is_consumption',\n",
    "#        'day_no', 'hour', 'month', 'weekday',\n",
    "#        '10_metre_u_wind_component', '10_metre_v_wind_component',\n",
    "#        'cloudcover_high_x', 'cloudcover_low_x', 'cloudcover_mid_x',\n",
    "#        'cloudcover_total_x', 'dewpoint_x',\n",
    "#        'direct_solar_radiation_x', \n",
    "#        'latitude_x', 'longitude_x', 'snowfall_x',\n",
    "#        'surface_solar_radiation_downwards', 'temperature_x',\n",
    "#        'total_precipitation', 'lowest_price_per_mwh',\n",
    "#        'highest_price_per_mwh', \n",
    "#        'euros_per_mwh', 'cloudcover_high_y', 'cloudcover_low_y', 'cloudcover_mid_y',\n",
    "#        'cloudcover_total_y', 'dewpoint_y',\n",
    "#        'diffuse_radiation', 'direct_solar_radiation_y',\n",
    "#        'rain', 'shortwave_radiation', 'snowfall_y',\n",
    "#        'surface_pressure', 'temperature_y', 'winddirection_10m',\n",
    "#        'windspeed_10m']\n",
    "cols = ['target', 'is_business', 'product_type', 'county', 'is_consumption',\n",
    "       'hour', 'weekday', 'day_no', 'month',\n",
    "       'cloudcover_total_x', 'dewpoint_x',\n",
    "       'latitude_x', 'longitude_x',\n",
    "       'euros_per_mwh', 'cloudcover_low_y', \n",
    "       'cloudcover_total_y',\n",
    "       'diffuse_radiation', 'direct_solar_radiation_y',\n",
    "       'rain', 'shortwave_radiation',\n",
    "       'surface_pressure', 'temperature_y', 'winddirection_10m',\n",
    "       'windspeed_10m']"
   ]
  },
  {
   "cell_type": "code",
   "execution_count": 3,
   "metadata": {},
   "outputs": [],
   "source": [
    "train = pd.read_csv('output/updated_train.csv')"
   ]
  },
  {
   "cell_type": "code",
   "execution_count": 6,
   "metadata": {},
   "outputs": [],
   "source": [
    "from statsmodels.stats.outliers_influence import variance_inflation_factor\n",
    "from sklearn.feature_selection import f_regression\n",
    "sample_size = 10000\n",
    "X, y = train[cols[1:]][:sample_size], train['target'][:sample_size]\n",
    "X = PolynomialFeatures(3).fit_transform(X)\n",
    "# x = sm.add_constant(X)\n",
    "\n",
    "# data = pd.DataFrame()\n",
    "# data['features'] = X.columns\n",
    "# data['VIF'] = [variance_inflation_factor(X.values, i).round(1) for i in range(X.shape[1])]\n",
    "# f_scores, p_scores = f_regression(X, y)\n",
    "# data['Fscores'] = f_scores\n",
    "# data['Pscores'] = p_scores.round(5)\n",
    "# data"
   ]
  },
  {
   "cell_type": "code",
   "execution_count": 5,
   "metadata": {},
   "outputs": [
    {
     "data": {
      "text/plain": [
       "0.7151842539870313"
      ]
     },
     "execution_count": 5,
     "metadata": {},
     "output_type": "execute_result"
    }
   ],
   "source": [
    "X_train_and_validate, X_test, y_train_and_validate, y_test = train_test_split(X, y, test_size=.2, random_state=0)\n",
    "X_train, X_valid, y_train, y_valid =  train_test_split(X_train_and_validate, y_train_and_validate, test_size=.25, random_state=0)\n",
    "\n",
    "linreg = LinearRegression()\n",
    "linreg.fit(X_train, y_train)\n",
    "linreg.score(X_train, y_train)"
   ]
  },
  {
   "cell_type": "code",
   "execution_count": 6,
   "metadata": {},
   "outputs": [
    {
     "name": "stdout",
     "output_type": "stream",
     "text": [
      "MAE: training set\n",
      "208.08961121117463\n",
      "MAE: validation set\n",
      "315.74252113525773\n"
     ]
    }
   ],
   "source": [
    "y_predict_train = linreg.predict(X_train)\n",
    "y_predict_valid = linreg.predict(X_valid)\n",
    "print('MAE: training set')\n",
    "print(mean_absolute_error(y_predict_train, y_train))\n",
    "print('MAE: validation set')\n",
    "print(mean_absolute_error(y_predict_valid, y_valid))"
   ]
  },
  {
   "cell_type": "code",
   "execution_count": 7,
   "metadata": {},
   "outputs": [
    {
     "data": {
      "image/png": "[encoded data removed]",
      "text/plain": [
       "<Figure size 200x200 with 1 Axes>"
      ]
     },
     "metadata": {},
     "output_type": "display_data"
    }
   ],
   "source": [
    "plt.figure(figsize=(2, 2))\n",
    "plt.xlim(-1000, 2000)\n",
    "plt.ylim(-1000, 2000)\n",
    "plt.scatter(y_predict_valid, y_valid, s=1, alpha=1);"
   ]
  },
  {
   "cell_type": "code",
   "execution_count": 8,
   "metadata": {},
   "outputs": [
    {
     "name": "stdout",
     "output_type": "stream",
     "text": [
      "MAE: training set\n",
      "212.34957443553253\n",
      "MAE: validation set\n",
      "306.28683005896073\n"
     ]
    }
   ],
   "source": [
    "from sklearn.linear_model import Ridge\n",
    "\n",
    "model = Ridge(alpha=1)\n",
    "model.fit(X_train, y_train)\n",
    "model.score(X_train, y_train)\n",
    "y_predict_train = model.predict(X_train)\n",
    "y_predict_valid = model.predict(X_valid)\n",
    "print('MAE: training set')\n",
    "print(mean_absolute_error(y_predict_train, y_train))\n",
    "print('MAE: validation set')\n",
    "print(mean_absolute_error(y_predict_valid, y_valid))"
   ]
  },
  {
   "cell_type": "code",
   "execution_count": 7,
   "metadata": {},
   "outputs": [],
   "source": [
    "sample_size = 10000\n",
    "X, y = train[cols[1:]][:sample_size], train['target'][:sample_size]\n",
    "X = StandardScaler().fit_transform(X)\n",
    "X_train_and_validate, X_test, y_train_and_validate, y_test = train_test_split(X, y, test_size=.2, random_state=0)\n",
    "X_train, X_valid, y_train, y_valid =  train_test_split(X_train_and_validate, y_train_and_validate, test_size=.25, random_state=0)\n"
   ]
  },
  {
   "cell_type": "code",
   "execution_count": 8,
   "metadata": {},
   "outputs": [
    {
     "name": "stdout",
     "output_type": "stream",
     "text": [
      "MAE: training set\n",
      "164.62492262446744\n",
      "MAE: validation set\n",
      "190.22557578801334\n"
     ]
    }
   ],
   "source": [
    "from sklearn.svm import SVR\n",
    "\n",
    "model = SVR(kernel='poly', degree=3, C=.1, gamma=1)\n",
    "model.fit(X_train, y_train)\n",
    "model.score(X_train, y_train)\n",
    "y_predict_train = model.predict(X_train)\n",
    "y_predict_valid = model.predict(X_valid)\n",
    "print('MAE: training set')\n",
    "print(mean_absolute_error(y_predict_train, y_train))\n",
    "print('MAE: validation set')\n",
    "print(mean_absolute_error(y_predict_valid, y_valid))"
   ]
  },
  {
   "cell_type": "code",
   "execution_count": 8,
   "metadata": {},
   "outputs": [
    {
     "name": "stdout",
     "output_type": "stream",
     "text": [
      "Fitting 3 folds for each of 24 candidates, totalling 72 fits\n",
      "[CV] END ..........C=0.1, degree=2, gamma=0.1, kernel=linear; total time=   3.0s\n",
      "[CV] END ..........C=0.1, degree=2, gamma=0.1, kernel=linear; total time=   2.8s\n",
      "[CV] END ..........C=0.1, degree=2, gamma=0.1, kernel=linear; total time=   2.2s\n",
      "[CV] END ............C=0.1, degree=2, gamma=0.1, kernel=poly; total time=   2.5s\n",
      "[CV] END ............C=0.1, degree=2, gamma=0.1, kernel=poly; total time=   2.5s\n",
      "[CV] END ............C=0.1, degree=2, gamma=0.1, kernel=poly; total time=   2.6s\n",
      "[CV] END .............C=0.1, degree=2, gamma=0.1, kernel=rbf; total time=   5.1s\n",
      "[CV] END .............C=0.1, degree=2, gamma=0.1, kernel=rbf; total time=   5.0s\n",
      "[CV] END .............C=0.1, degree=2, gamma=0.1, kernel=rbf; total time=   4.9s\n",
      "[CV] END ............C=0.1, degree=2, gamma=1, kernel=linear; total time=   2.4s\n",
      "[CV] END ............C=0.1, degree=2, gamma=1, kernel=linear; total time=   2.3s\n",
      "[CV] END ............C=0.1, degree=2, gamma=1, kernel=linear; total time=   2.5s\n",
      "[CV] END ..............C=0.1, degree=2, gamma=1, kernel=poly; total time=   3.2s\n",
      "[CV] END ..............C=0.1, degree=2, gamma=1, kernel=poly; total time=   3.2s\n",
      "[CV] END ..............C=0.1, degree=2, gamma=1, kernel=poly; total time=   3.0s\n",
      "[CV] END ...............C=0.1, degree=2, gamma=1, kernel=rbf; total time=   5.1s\n",
      "[CV] END ...............C=0.1, degree=2, gamma=1, kernel=rbf; total time=   5.0s\n",
      "[CV] END ...............C=0.1, degree=2, gamma=1, kernel=rbf; total time=   4.9s\n",
      "[CV] END ..........C=0.1, degree=3, gamma=0.1, kernel=linear; total time=   2.4s\n",
      "[CV] END ..........C=0.1, degree=3, gamma=0.1, kernel=linear; total time=   2.9s\n",
      "[CV] END ..........C=0.1, degree=3, gamma=0.1, kernel=linear; total time=   2.4s\n",
      "[CV] END ............C=0.1, degree=3, gamma=0.1, kernel=poly; total time=   2.7s\n",
      "[CV] END ............C=0.1, degree=3, gamma=0.1, kernel=poly; total time=   2.7s\n",
      "[CV] END ............C=0.1, degree=3, gamma=0.1, kernel=poly; total time=   3.0s\n",
      "[CV] END .............C=0.1, degree=3, gamma=0.1, kernel=rbf; total time=   5.2s\n",
      "[CV] END .............C=0.1, degree=3, gamma=0.1, kernel=rbf; total time=   5.3s\n",
      "[CV] END .............C=0.1, degree=3, gamma=0.1, kernel=rbf; total time=   5.2s\n",
      "[CV] END ............C=0.1, degree=3, gamma=1, kernel=linear; total time=   2.6s\n",
      "[CV] END ............C=0.1, degree=3, gamma=1, kernel=linear; total time=   2.4s\n",
      "[CV] END ............C=0.1, degree=3, gamma=1, kernel=linear; total time=   2.3s\n",
      "[CV] END ..............C=0.1, degree=3, gamma=1, kernel=poly; total time=  28.2s\n",
      "[CV] END ..............C=0.1, degree=3, gamma=1, kernel=poly; total time=  24.8s\n",
      "[CV] END ..............C=0.1, degree=3, gamma=1, kernel=poly; total time=  22.4s\n",
      "[CV] END ...............C=0.1, degree=3, gamma=1, kernel=rbf; total time=   4.9s\n",
      "[CV] END ...............C=0.1, degree=3, gamma=1, kernel=rbf; total time=   5.2s\n",
      "[CV] END ...............C=0.1, degree=3, gamma=1, kernel=rbf; total time=   5.2s\n",
      "[CV] END ............C=1, degree=2, gamma=0.1, kernel=linear; total time=   2.4s\n",
      "[CV] END ............C=1, degree=2, gamma=0.1, kernel=linear; total time=   2.4s\n",
      "[CV] END ............C=1, degree=2, gamma=0.1, kernel=linear; total time=   2.4s\n",
      "[CV] END ..............C=1, degree=2, gamma=0.1, kernel=poly; total time=   2.6s\n",
      "[CV] END ..............C=1, degree=2, gamma=0.1, kernel=poly; total time=   2.8s\n",
      "[CV] END ..............C=1, degree=2, gamma=0.1, kernel=poly; total time=   3.0s\n",
      "[CV] END ...............C=1, degree=2, gamma=0.1, kernel=rbf; total time=   5.3s\n",
      "[CV] END ...............C=1, degree=2, gamma=0.1, kernel=rbf; total time=   4.6s\n",
      "[CV] END ...............C=1, degree=2, gamma=0.1, kernel=rbf; total time=   4.7s\n",
      "[CV] END ..............C=1, degree=2, gamma=1, kernel=linear; total time=   2.4s\n",
      "[CV] END ..............C=1, degree=2, gamma=1, kernel=linear; total time=   2.5s\n",
      "[CV] END ..............C=1, degree=2, gamma=1, kernel=linear; total time=   2.2s\n",
      "[CV] END ................C=1, degree=2, gamma=1, kernel=poly; total time=  10.6s\n",
      "[CV] END ................C=1, degree=2, gamma=1, kernel=poly; total time=   6.9s\n",
      "[CV] END ................C=1, degree=2, gamma=1, kernel=poly; total time=   6.3s\n",
      "[CV] END .................C=1, degree=2, gamma=1, kernel=rbf; total time=   4.7s\n",
      "[CV] END .................C=1, degree=2, gamma=1, kernel=rbf; total time=   4.6s\n",
      "[CV] END .................C=1, degree=2, gamma=1, kernel=rbf; total time=   4.9s\n",
      "[CV] END ............C=1, degree=3, gamma=0.1, kernel=linear; total time=   2.2s\n",
      "[CV] END ............C=1, degree=3, gamma=0.1, kernel=linear; total time=   2.3s\n",
      "[CV] END ............C=1, degree=3, gamma=0.1, kernel=linear; total time=   2.3s\n",
      "[CV] END ..............C=1, degree=3, gamma=0.1, kernel=poly; total time=   2.8s\n",
      "[CV] END ..............C=1, degree=3, gamma=0.1, kernel=poly; total time=   2.7s\n",
      "[CV] END ..............C=1, degree=3, gamma=0.1, kernel=poly; total time=   2.6s\n",
      "[CV] END ...............C=1, degree=3, gamma=0.1, kernel=rbf; total time=   5.0s\n",
      "[CV] END ...............C=1, degree=3, gamma=0.1, kernel=rbf; total time=   4.8s\n",
      "[CV] END ...............C=1, degree=3, gamma=0.1, kernel=rbf; total time=   4.6s\n",
      "[CV] END ..............C=1, degree=3, gamma=1, kernel=linear; total time=   2.4s\n",
      "[CV] END ..............C=1, degree=3, gamma=1, kernel=linear; total time=   2.4s\n",
      "[CV] END ..............C=1, degree=3, gamma=1, kernel=linear; total time=   2.3s\n",
      "[CV] END ................C=1, degree=3, gamma=1, kernel=poly; total time= 6.3min\n",
      "[CV] END ................C=1, degree=3, gamma=1, kernel=poly; total time= 6.3min\n",
      "[CV] END ................C=1, degree=3, gamma=1, kernel=poly; total time= 7.5min\n",
      "[CV] END .................C=1, degree=3, gamma=1, kernel=rbf; total time=   4.9s\n",
      "[CV] END .................C=1, degree=3, gamma=1, kernel=rbf; total time=   4.8s\n",
      "[CV] END .................C=1, degree=3, gamma=1, kernel=rbf; total time=   5.1s\n",
      "Best Score: -183.4221208438668 Best Params: {'C': 0.1, 'degree': 3, 'gamma': 1, 'kernel': 'poly'}\n"
     ]
    }
   ],
   "source": [
    "from sklearn.model_selection import GridSearchCV\n",
    "\n",
    "params = {'kernel': ['linear','poly', 'rbf'], \n",
    "          'degree': [2, 3],\n",
    "          'C': [.1, 1],\n",
    "          'gamma': [.1, 1]}\n",
    "model = SVR()\n",
    "gs = GridSearchCV(estimator=model, \n",
    "                           param_grid=params,\n",
    "                           scoring='neg_mean_absolute_error',\n",
    "                           verbose=2,\n",
    "                           cv=3)\n",
    "gs.fit(X_train_and_validate, y_train_and_validate)\n",
    "results = gs.cv_results_\n",
    "print('Best Score:', gs.best_score_, 'Best Params:', gs.best_params_)"
   ]
  },
  {
   "cell_type": "code",
   "execution_count": 4,
   "metadata": {},
   "outputs": [],
   "source": [
    "from sklearn.model_selection import GridSearchCV\n",
    "from sklearn.ensemble import RandomForestRegressor\n",
    "\n",
    "params = {'max_depth': [15], \n",
    "          'min_samples_leaf': [3, 4],\n",
    "         'n_estimators': [200, 250, 300]}\n",
    "model = RandomForestRegressor()\n",
    "gs = GridSearchCV(estimator=model, \n",
    "                           param_grid=params,\n",
    "                           scoring='neg_mean_absolute_error',\n",
    "                           verbose=2,\n",
    "                           cv=3)\n",
    "gs.fit(X_train_and_validate, y_train_and_validate)\n",
    "results = gs.cv_results_\n",
    "print('Best Score:', gs.best_score_, 'Best Params:', gs.best_params_)"
   ]
  },
  {
   "cell_type": "code",
   "execution_count": 4,
   "metadata": {},
   "outputs": [],
   "source": [
    "sample_size = train.shape[0]\n",
    "X, y = train[cols[1:]][:sample_size], train['target'][:sample_size]\n",
    "X = StandardScaler().fit_transform(X)\n",
    "X_train_and_validate, X_test, y_train_and_validate, y_test = train_test_split(X, y, test_size=.2, random_state=0)\n",
    "X_train, X_valid, y_train, y_valid =  train_test_split(X_train_and_validate, y_train_and_validate, test_size=.25, random_state=0)\n",
    "\n",
    "model = RandomForestRegressor(max_depth=15, min_samples_leaf=3, n_estimators=50)\n",
    "model.fit(X_train, y_train)\n",
    "model.score(X_train, y_train)\n",
    "y_predict_train = model.predict(X_train)\n",
    "y_predict_valid = model.predict(X_valid)\n",
    "print('MAE: training set')\n",
    "print(mean_absolute_error(y_predict_train, y_train))\n",
    "print('MAE: validation set')\n",
    "print(mean_absolute_error(y_predict_valid, y_valid))"
   ]
  },
  {
   "cell_type": "code",
   "execution_count": 22,
   "metadata": {},
   "outputs": [
    {
     "data": {
      "image/png": "[encoded data removed]",
      "text/plain": [
       "<Figure size 300x300 with 1 Axes>"
      ]
     },
     "metadata": {},
     "output_type": "display_data"
    }
   ],
   "source": [
    "plt.figure(figsize=(3, 3))\n",
    "plt.xlim(0, 4000)\n",
    "plt.ylim(0, 4000)\n",
    "plt.scatter(y_predict_valid, y_valid, s=1, alpha=.003);"
   ]
  },
  {
   "cell_type": "code",
   "execution_count": 27,
   "metadata": {},
   "outputs": [
    {
     "name": "stdout",
     "output_type": "stream",
     "text": [
      "Fitting 3 folds for each of 4 candidates, totalling 12 fits\n",
      "[CV] END ............gamma=1, max_depth=10, n_estimators=100; total time=   2.0s\n",
      "[CV] END ............gamma=1, max_depth=10, n_estimators=100; total time=   2.0s\n",
      "[CV] END ............gamma=1, max_depth=10, n_estimators=100; total time=   1.9s\n",
      "[CV] END ............gamma=1, max_depth=15, n_estimators=100; total time=   2.3s\n",
      "[CV] END ............gamma=1, max_depth=15, n_estimators=100; total time=   2.4s\n",
      "[CV] END ............gamma=1, max_depth=15, n_estimators=100; total time=   2.5s\n",
      "[CV] END ...........gamma=10, max_depth=10, n_estimators=100; total time=   1.6s\n",
      "[CV] END ...........gamma=10, max_depth=10, n_estimators=100; total time=   1.6s\n",
      "[CV] END ...........gamma=10, max_depth=10, n_estimators=100; total time=   1.6s\n",
      "[CV] END ...........gamma=10, max_depth=15, n_estimators=100; total time=   1.9s\n",
      "[CV] END ...........gamma=10, max_depth=15, n_estimators=100; total time=   2.1s\n",
      "[CV] END ...........gamma=10, max_depth=15, n_estimators=100; total time=   2.1s\n",
      "Best Score: -84.24884213288944 Best Params: {'gamma': 10, 'max_depth': 15, 'n_estimators': 100}\n"
     ]
    }
   ],
   "source": [
    "import warnings\n",
    "\n",
    "warnings.filterwarnings('ignore')\n",
    "\n",
    "from xgboost import XGBRegressor\n",
    "\n",
    "params = {'max_depth': [10, 15], \n",
    "          'gamma': [1, 10],\n",
    "         'n_estimators': [100]}\n",
    "model = XGBRegressor()\n",
    "gs = GridSearchCV(estimator=model, \n",
    "                           param_grid=params,\n",
    "                           scoring='neg_mean_absolute_error',\n",
    "                           verbose=2,\n",
    "                           cv=3)\n",
    "gs.fit(X_train_and_validate[:10000], y_train_and_validate[:10000])\n",
    "results = gs.cv_results_\n",
    "print('Best Score:', gs.best_score_, 'Best Params:', gs.best_params_)"
   ]
  },
  {
   "cell_type": "code",
   "execution_count": 7,
   "metadata": {},
   "outputs": [
    {
     "name": "stdout",
     "output_type": "stream",
     "text": [
      "Fitting 3 folds for each of 7 candidates, totalling 21 fits\n",
      "[CV] END ......................................n_neighbors=2; total time=   8.5s\n",
      "[CV] END ......................................n_neighbors=2; total time=   9.3s\n",
      "[CV] END ......................................n_neighbors=2; total time=   9.5s\n",
      "[CV] END ......................................n_neighbors=3; total time=   9.8s\n",
      "[CV] END ......................................n_neighbors=3; total time=  10.2s\n",
      "[CV] END ......................................n_neighbors=3; total time=  10.3s\n",
      "[CV] END ......................................n_neighbors=5; total time=  10.5s\n",
      "[CV] END ......................................n_neighbors=5; total time=  10.7s\n",
      "[CV] END ......................................n_neighbors=5; total time=  10.4s\n",
      "[CV] END .....................................n_neighbors=10; total time=  16.7s\n",
      "[CV] END .....................................n_neighbors=10; total time=  18.1s\n",
      "[CV] END .....................................n_neighbors=10; total time=  14.7s\n",
      "[CV] END .....................................n_neighbors=15; total time=  13.6s\n",
      "[CV] END .....................................n_neighbors=15; total time=  12.5s\n",
      "[CV] END .....................................n_neighbors=15; total time=  11.9s\n",
      "[CV] END .....................................n_neighbors=20; total time=  13.3s\n",
      "[CV] END .....................................n_neighbors=20; total time=  11.6s\n",
      "[CV] END .....................................n_neighbors=20; total time=  10.9s\n",
      "[CV] END .....................................n_neighbors=50; total time=  17.3s\n",
      "[CV] END .....................................n_neighbors=50; total time=  15.7s\n",
      "[CV] END .....................................n_neighbors=50; total time=  24.8s\n",
      "Best Score: -212.9301137069665 Best Params: {'n_neighbors': 5}\n"
     ]
    }
   ],
   "source": [
    "from sklearn.neighbors import KNeighborsRegressor\n",
    "from sklearn.model_selection import GridSearchCV\n",
    "\n",
    "params = {'n_neighbors': [2, 3, 5, 10, 15, 20, 50]}\n",
    "model = KNeighborsRegressor()\n",
    "gs = GridSearchCV(estimator=model, \n",
    "                           param_grid=params,\n",
    "                           scoring='neg_mean_absolute_error',\n",
    "                           verbose=2,\n",
    "                           cv=3)\n",
    "gs.fit(X_train_and_validate[:100000], y_train_and_validate[:100000])\n",
    "results = gs.cv_results_\n",
    "print('Best Score:', gs.best_score_, 'Best Params:', gs.best_params_)"
   ]
  }
 ],
 "metadata": {
  "kernelspec": {
   "display_name": "Python 3",
   "language": "python",
   "name": "python3"
  },
  "language_info": {
   "codemirror_mode": {
    "name": "ipython",
    "version": 3
   },
   "file_extension": ".py",
   "mimetype": "text/x-python",
   "name": "python",
   "nbconvert_exporter": "python",
   "pygments_lexer": "ipython3",
   "version": "3.11.0"
  }
 },
 "nbformat": 4,
 "nbformat_minor": 2
}
