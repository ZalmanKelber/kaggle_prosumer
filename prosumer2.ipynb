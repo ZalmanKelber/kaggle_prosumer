{
 "cells": [
  {
   "cell_type": "code",
   "execution_count": 1,
   "metadata": {},
   "outputs": [],
   "source": [
    "\n",
    "import pandas as pd\n",
    "import numpy as np\n",
    "import matplotlib.pyplot as plt\n",
    "import seaborn as sns\n",
    "sns.set()\n",
    "import statsmodels.api as sm \n",
    "\n",
    "from sklearn.linear_model import LinearRegression\n",
    "from sklearn.preprocessing import StandardScaler, PolynomialFeatures\n",
    "from sklearn.model_selection import train_test_split\n",
    "from sklearn.metrics import mean_absolute_error\n"
   ]
  },
  {
   "cell_type": "code",
   "execution_count": 24,
   "metadata": {},
   "outputs": [],
   "source": [
    "# cols = ['target', 'is_business', 'product_type', 'county', 'is_consumption',\n",
    "#        'day_no', 'hour', 'month', 'weekday',\n",
    "#        '10_metre_u_wind_component', '10_metre_v_wind_component',\n",
    "#        'cloudcover_high_x', 'cloudcover_low_x', 'cloudcover_mid_x',\n",
    "#        'cloudcover_total_x', 'dewpoint_x',\n",
    "#        'direct_solar_radiation_x', \n",
    "#        'latitude_x', 'longitude_x', 'snowfall_x',\n",
    "#        'surface_solar_radiation_downwards', 'temperature_x',\n",
    "#        'total_precipitation', 'lowest_price_per_mwh',\n",
    "#        'highest_price_per_mwh', \n",
    "#        'euros_per_mwh', 'cloudcover_high_y', 'cloudcover_low_y', 'cloudcover_mid_y',\n",
    "#        'cloudcover_total_y', 'dewpoint_y',\n",
    "#        'diffuse_radiation', 'direct_solar_radiation_y',\n",
    "#        'rain', 'shortwave_radiation', 'snowfall_y',\n",
    "#        'surface_pressure', 'temperature_y', 'winddirection_10m',\n",
    "#        'windspeed_10m']\n",
    "cols = ['target', 'is_business', 'product_type', 'county', 'is_consumption',\n",
    "       'hour', 'weekday',\n",
    "       'cloudcover_total_x', 'dewpoint_x',\n",
    "       'latitude_x', 'longitude_x',\n",
    "       'euros_per_mwh', 'cloudcover_low_y', \n",
    "       'cloudcover_total_y',\n",
    "       'diffuse_radiation', 'direct_solar_radiation_y',\n",
    "       'rain', 'shortwave_radiation',\n",
    "       'surface_pressure', 'temperature_y', 'winddirection_10m',\n",
    "       'windspeed_10m']"
   ]
  },
  {
   "cell_type": "code",
   "execution_count": 10,
   "metadata": {},
   "outputs": [],
   "source": [
    "train = pd.read_csv('output/updated_train.csv')"
   ]
  },
  {
   "cell_type": "code",
   "execution_count": 25,
   "metadata": {},
   "outputs": [],
   "source": [
    "from statsmodels.stats.outliers_influence import variance_inflation_factor\n",
    "from sklearn.feature_selection import f_regression\n",
    "sample_size = train.shape[0]\n",
    "X, y = train[cols[1:]][:sample_size], train['target'][:sample_size]\n",
    "x = sm.add_constant(X)\n",
    "\n",
    "# data = pd.DataFrame()\n",
    "# data['features'] = X.columns\n",
    "# data['VIF'] = [variance_inflation_factor(X.values, i).round(1) for i in range(X.shape[1])]\n",
    "# f_scores, p_scores = f_regression(X, y)\n",
    "# data['Fscores'] = f_scores\n",
    "# data['Pscores'] = p_scores.round(5)\n",
    "# data"
   ]
  },
  {
   "cell_type": "code",
   "execution_count": 26,
   "metadata": {},
   "outputs": [
    {
     "data": {
      "text/plain": [
       "0.13133830023576554"
      ]
     },
     "execution_count": 26,
     "metadata": {},
     "output_type": "execute_result"
    }
   ],
   "source": [
    "linreg = LinearRegression()\n",
    "linreg.fit(X, y)\n",
    "linreg.score(X, y)"
   ]
  }
 ],
 "metadata": {
  "kernelspec": {
   "display_name": "Python 3",
   "language": "python",
   "name": "python3"
  },
  "language_info": {
   "codemirror_mode": {
    "name": "ipython",
    "version": 3
   },
   "file_extension": ".py",
   "mimetype": "text/x-python",
   "name": "python",
   "nbconvert_exporter": "python",
   "pygments_lexer": "ipython3",
   "version": "3.11.0"
  }
 },
 "nbformat": 4,
 "nbformat_minor": 2
}
